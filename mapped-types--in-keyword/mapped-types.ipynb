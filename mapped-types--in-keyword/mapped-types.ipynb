{
 "cells": [
  {
   "attachments": {},
   "cell_type": "markdown",
   "metadata": {},
   "source": [
    "# Mapped types\n",
    "\n",
    "Reference: [Mapped types #12114](https://github.com/Microsoft/TypeScript/pull/12114)\n",
    "\n",
    "\n",
    "The most basic mapped type has the following construct:\n",
    "\n",
    "```typescript \n",
    "{ \n",
    "    [ P in K ] : T\n",
    "}\n",
    "```\n",
    "\n",
    "Where: \n",
    "- `P` is an identifier (type variable)\n",
    "- `K` is a a type that must be assgnable to `string` (see Note [1])\n",
    "- `T` is some type that can be accessed via  `T[P]`\n",
    "\n",
    "With the above construct Mapped types will iterate throgh the element of union `K` to construct a new type , for example:\n",
    "\n",
    "```typescript \n",
    "type T1 = { \n",
    "    [P in \"x\" | \"y\"]: number \n",
    "}\n",
    "```\n",
    "\n",
    "So the created type, `T1` is equivalent to:\n",
    "```typescript\n",
    "type T1equivalent = {\n",
    "    x: number, \n",
    "    y: number\n",
    "}\n",
    "```\n"
   ]
  },
  {
   "attachments": {},
   "cell_type": "markdown",
   "metadata": {},
   "source": [
    "##### Note [1] Assignable to string"
   ]
  },
  {
   "cell_type": "code",
   "execution_count": 3,
   "metadata": {},
   "outputs": [],
   "source": [
    "// Assignable to `string`\n",
    "\n",
    "{\n",
    "    // From https://github.com/sindresorhus/type-fest/blob/main/source/is-equal.d.ts\n",
    "    type IsEqual<A, B> =\n",
    "        (<G>() => G extends A ? 1 : 2) extends\n",
    "        (<G>() => G extends B ? 1 : 2)\n",
    "            ? true\n",
    "            : false;\n",
    "\n",
    "    type AssignableToString<T>  = T extends string ? true : false\n",
    "\n",
    "    type ExpectedToAssiganbleToString =  \"name\" | \"alive\" | \"foo\"\n",
    "    type assert1 = IsEqual<AssignableToString<ExpectedToAssiganbleToString>, true> // true\n",
    "\n",
    "    type ExpectedToNotAssiganbleToString =  1 | \"alive\" | \"foo\"\n",
    "    type assert2 = IsEqual<AssignableToString<ExpectedToNotAssiganbleToString>, false> // true \n",
    "}"
   ]
  }
 ],
 "metadata": {
  "kernelspec": {
   "display_name": "TypeScript",
   "language": "typescript",
   "name": "tslab"
  },
  "language_info": {
   "codemirror_mode": {
    "mode": "typescript",
    "name": "javascript",
    "typescript": true
   },
   "file_extension": ".ts",
   "mimetype": "text/typescript",
   "name": "typescript",
   "version": "3.7.2"
  },
  "orig_nbformat": 4
 },
 "nbformat": 4,
 "nbformat_minor": 2
}
