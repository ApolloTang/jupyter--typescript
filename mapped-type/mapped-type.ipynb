{
 "cells": [
  {
   "cell_type": "markdown",
   "metadata": {},
   "source": [
    "# Mapped Type\n",
    "\n",
    "[https://blog.logrocket.com/typescript-mapped-types](https://blog.logrocket.com/typescript-mapped-types)"
   ]
  },
  {
   "cell_type": "code",
   "execution_count": null,
   "metadata": {},
   "outputs": [],
   "source": []
  }
 ],
 "metadata": {
  "kernelspec": {
   "display_name": "TypeScript",
   "language": "typescript",
   "name": "tslab"
  },
  "language_info": {
   "name": "typescript",
   "version": "3.10.8"
  },
  "orig_nbformat": 4,
  "vscode": {
   "interpreter": {
    "hash": "839ab68eaca41ae32cb4eeba237fcdc4efc5915b41c08479a6974acc8167eaeb"
   }
  }
 },
 "nbformat": 4,
 "nbformat_minor": 2
}
