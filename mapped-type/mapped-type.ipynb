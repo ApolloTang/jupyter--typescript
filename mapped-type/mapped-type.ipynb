{
 "cells": [
  {
   "attachments": {},
   "cell_type": "markdown",
   "metadata": {},
   "source": [
    "# Mapped Type\n",
    "\n",
    "[https://blog.logrocket.com/typescript-mapped-types](https://blog.logrocket.com/typescript-mapped-types)\n",
    "\n",
    "[Mapped types #12114](https://github.com/Microsoft/TypeScript/pull/12114)"
   ]
  }
 ],
 "metadata": {
  "kernelspec": {
   "display_name": "TypeScript",
   "language": "typescript",
   "name": "tslab"
  },
  "language_info": {
   "name": "typescript",
   "version": "3.10.8"
  },
  "orig_nbformat": 4,
  "vscode": {
   "interpreter": {
    "hash": "839ab68eaca41ae32cb4eeba237fcdc4efc5915b41c08479a6974acc8167eaeb"
   }
  }
 },
 "nbformat": 4,
 "nbformat_minor": 2
}
