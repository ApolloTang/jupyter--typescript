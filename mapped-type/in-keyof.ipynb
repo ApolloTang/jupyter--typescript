{
 "cells": [
  {
   "cell_type": "markdown",
   "metadata": {},
   "source": [
    "# `in keyof` explained:\n",
    "\n",
    "[https://www.typescriptlang.org/docs/handbook/2/mapped-types.html#key-remapping-via-as](https://www.typescriptlang.org/docs/handbook/2/mapped-types.html#key-remapping-via-as)"
   ]
  },
  {
   "cell_type": "code",
   "execution_count": null,
   "metadata": {},
   "outputs": [],
   "source": [
    "type TypeObj = {\n",
    "  a: string, \n",
    "  b: string\n",
    "}\n",
    "\n",
    "type Foo = {\n",
    "  [x in keyof TypeObj]: boolean\n",
    "}"
   ]
  },
  {
   "cell_type": "markdown",
   "metadata": {},
   "source": [
    "Typescript will rewrite the type alias `Foo` above as:\n",
    "\n",
    "```typescript\n",
    "type Foo = {\n",
    "  a: boolean;\n",
    "  b: boolean;\n",
    "}\n",
    "```\n",
    "\n",
    "You can write a generic version of the above:"
   ]
  },
  {
   "cell_type": "code",
   "execution_count": null,
   "metadata": {},
   "outputs": [],
   "source": [
    "{\n",
    "  type GenericFoo<T> = {\n",
    "    [x in keyof T]: boolean\n",
    "  }\n",
    "\n",
    "  type Foo = GenericFoo<TypeObj>\n",
    "}"
   ]
  },
  {
   "cell_type": "markdown",
   "metadata": {},
   "source": [
    "The type variable x is just a name. You can call it something else, for example `yyy`:"
   ]
  },
  {
   "cell_type": "code",
   "execution_count": null,
   "metadata": {},
   "outputs": [],
   "source": [
    "{\n",
    "    type GenericFoo<T> = {\n",
    "      [yyy in keyof T]: boolean\n",
    "    }\n",
    "  \n",
    "    type Foo = GenericFoo<TypeObj>\n",
    "  }"
   ]
  }
 ],
 "metadata": {
  "kernelspec": {
   "display_name": "TypeScript",
   "language": "typescript",
   "name": "tslab"
  },
  "language_info": {
   "file_extension": ".js",
   "mimetype": "text/javascript",
   "name": "typescript",
   "version": ""
  },
  "orig_nbformat": 4,
  "vscode": {
   "interpreter": {
    "hash": "839ab68eaca41ae32cb4eeba237fcdc4efc5915b41c08479a6974acc8167eaeb"
   }
  }
 },
 "nbformat": 4,
 "nbformat_minor": 2
}
