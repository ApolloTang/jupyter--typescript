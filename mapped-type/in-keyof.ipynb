{
 "cells": [
  {
   "cell_type": "markdown",
   "metadata": {},
   "source": [
    "# `in keyof ` explained:\n",
    "\n",
    "[https://www.typescriptlang.org/docs/handbook/2/mapped-types.html](https://www.typescriptlang.org/docs/handbook/2/mapped-types.html)\n",
    "\n",
    "Say we have a type called `TypeObj` defined as:"
   ]
  },
  {
   "cell_type": "code",
   "execution_count": null,
   "metadata": {},
   "outputs": [],
   "source": [
    "type TypeObj = {\n",
    "  a: string, \n",
    "  b: string\n",
    "}"
   ]
  },
  {
   "cell_type": "markdown",
   "metadata": {},
   "source": [
    "Now lets consider the following construct:"
   ]
  },
  {
   "cell_type": "code",
   "execution_count": null,
   "metadata": {},
   "outputs": [],
   "source": [
    "type Foo = {\n",
    "  [x in keyof TypeObj]: boolean\n",
    "}"
   ]
  },
  {
   "cell_type": "markdown",
   "metadata": {},
   "source": [
    "Typescript will rewrite the type alias `Foo` above as:\n",
    "\n",
    "```typescript\n",
    "type Foo = {\n",
    "  a: boolean;\n",
    "  b: boolean;\n",
    "}\n",
    "```\n",
    "The expression `[x in keyof TypeObj]` is simply an interation of all the key in `TypeObj`."
   ]
  },
  {
   "cell_type": "markdown",
   "metadata": {},
   "source": [
    "The type variable `x` is just a name. You can call it something else, for example `xyz`:"
   ]
  },
  {
   "cell_type": "code",
   "execution_count": null,
   "metadata": {},
   "outputs": [],
   "source": [
    "type Foo_alternate_iteration_var_name = {\n",
    "  [xyz in keyof TypeObj]: boolean\n",
    "}"
   ]
  },
  {
   "cell_type": "markdown",
   "metadata": {},
   "source": [
    "\n",
    "You can write a generic version of the `Foo` above:"
   ]
  },
  {
   "cell_type": "code",
   "execution_count": null,
   "metadata": {},
   "outputs": [],
   "source": [
    "{\n",
    "  type GenericFoo<T> = {\n",
    "    [x in keyof T]: boolean\n",
    "  }\n",
    "\n",
    "  type Foo = GenericFoo<TypeObj>\n",
    "}"
   ]
  },
  {
   "cell_type": "markdown",
   "metadata": {},
   "source": [
    "You can map the key name to a different one using the keyword `as`:"
   ]
  },
  {
   "cell_type": "code",
   "execution_count": null,
   "metadata": {},
   "outputs": [],
   "source": [
    "{\n",
    "  type GenericFoo<T> = {\n",
    "    [yyy in keyof T as `xxx${yyy}`]: boolean\n",
    "  }\n",
    "  \n",
    "  type Foo = GenericFoo<TypeObj>\n",
    "}"
   ]
  },
  {
   "cell_type": "markdown",
   "metadata": {},
   "source": [
    "In the above we are using the [template lieteral types](https://www.typescriptlang.org/docs/handbook/2/template-literal-types.html) for renaming template and the result is:\n",
    "\n",
    "```typescript\n",
    "type Foo = {\n",
    "    xxxa: boolean;\n",
    "    xxxb: boolean;\n",
    "}\n",
    "```\n",
    "Howere, there are some compiler error: \n",
    "\n",
    "![](imgs/img--compiler-error.png)\n",
    "\n",
    "Which can be fixed with adding `string &` to the template literal. \n"
   ]
  },
  {
   "cell_type": "code",
   "execution_count": null,
   "metadata": {},
   "outputs": [],
   "source": [
    "{\n",
    "  type GenericFoo<T> = {\n",
    "    [yyy in keyof T as `xxx${string & yyy}`]: boolean\n",
    "  }\n",
    "    \n",
    "  type Foo = GenericFoo<TypeObj>\n",
    "}"
   ]
  },
  {
   "cell_type": "markdown",
   "metadata": {},
   "source": [
    "I am not sure how this fix work, more of the subject called [Template Literal Types](https://www.typescriptlang.org/docs/handbook/2/template-literal-types.html) is required:"
   ]
  }
 ],
 "metadata": {
  "kernelspec": {
   "display_name": "TypeScript",
   "language": "typescript",
   "name": "tslab"
  },
  "language_info": {
   "codemirror_mode": {
    "mode": "typescript",
    "name": "javascript",
    "typescript": true
   },
   "file_extension": ".ts",
   "mimetype": "text/typescript",
   "name": "typescript",
   "version": "3.7.2"
  },
  "orig_nbformat": 4,
  "vscode": {
   "interpreter": {
    "hash": "839ab68eaca41ae32cb4eeba237fcdc4efc5915b41c08479a6974acc8167eaeb"
   }
  }
 },
 "nbformat": 4,
 "nbformat_minor": 2
}
