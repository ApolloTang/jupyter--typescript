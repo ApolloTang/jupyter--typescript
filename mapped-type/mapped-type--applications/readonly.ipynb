{
 "cells": [
  {
   "attachments": {},
   "cell_type": "markdown",
   "metadata": {},
   "source": [
    "# Readonly<Type>\n",
    "\n",
    "The typescript utility types `Readonly<Type>` transforms all properties of a given object to readonly. Meaning, the property of the object is no longer mutable."
   ]
  },
  {
   "cell_type": "code",
   "execution_count": null,
   "metadata": {},
   "outputs": [],
   "source": [
    "{\n",
    "    interface Account {\n",
    "        name: string;\n",
    "        balance: number;\n",
    "    }\n",
    "    const account1:Account = {\n",
    "        name: 'foo',\n",
    "        balance: 100, \n",
    "    }\n",
    "    account1.balance = 1000\n",
    "\n",
    "    type ImmutableAccount = Readonly<Account>\n",
    "    const account2:ImmutableAccount = {\n",
    "        name: 'foo',\n",
    "        balance: 100, \n",
    "    }\n",
    "    \n",
    "    account2.balance = 1000\n",
    "    // Cannot assign to 'balance' because it is a read-only property.ts(2540)\n",
    "}"
   ]
  },
  {
   "attachments": {},
   "cell_type": "markdown",
   "metadata": {},
   "source": [
    "Under the hood, the `Readonly` utility is a mapped-type:\n",
    "\n",
    "```\n",
    "type MyReadonly<Type> = { \n",
    "    readonly [key in keyof Type]: Type[key] \n",
    "}\n",
    "```\n"
   ]
  },
  {
   "cell_type": "code",
   "execution_count": null,
   "metadata": {},
   "outputs": [],
   "source": [
    "{\n",
    "    type MyReadonly<Type> = { \n",
    "        readonly [key in keyof Type]: Type[key] \n",
    "    }\n",
    "\n",
    "    interface Account {\n",
    "        name: string;\n",
    "        balance: number;\n",
    "    }\n",
    "    type ImmutableAccount = MyReadonly<Account>\n",
    "\n",
    "    const account2:ImmutableAccount = {\n",
    "        name: 'foo',\n",
    "        balance: 100, \n",
    "    }\n",
    "\n",
    "    account2.balance = 1000\n",
    "    // Cannot assign to 'balance' because it is a read-only property.ts(2540)\n",
    "\n",
    "}"
   ]
  }
 ],
 "metadata": {
  "kernelspec": {
   "display_name": "TypeScript",
   "language": "typescript",
   "name": "tslab"
  },
  "language_info": {
   "name": "typescript"
  },
  "orig_nbformat": 4
 },
 "nbformat": 4,
 "nbformat_minor": 2
}
