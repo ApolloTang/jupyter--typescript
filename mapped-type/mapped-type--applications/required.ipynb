{
 "cells": [
  {
   "attachments": {},
   "cell_type": "markdown",
   "metadata": {},
   "source": [
    "# Required\\<Type\\>\n",
    "\n",
    "When an object is transformed by `Required<Type>`, a new type of object is create, with all the original object's property become non-optional."
   ]
  },
  {
   "cell_type": "code",
   "execution_count": null,
   "metadata": {},
   "outputs": [],
   "source": [
    "{\n",
    "    interface Account {\n",
    "        name?: string;\n",
    "        balance?: number;\n",
    "    }\n",
    "\n",
    "    const account1:Account = {\n",
    "        name: 'foo',\n",
    "        // balance: 100, \n",
    "    }\n",
    "\n",
    "    type RequiredAccount = Required<Account>\n",
    "    const account2:RequiredAccount = {\n",
    "        name: 'foo',\n",
    "        // balance: 100, \n",
    "    }\n",
    "    // Property 'balance' is missing in type '{ name: string; }' \n",
    "    // but required in type 'Required<Account>'.ts(2741)\n",
    "}"
   ]
  },
  {
   "attachments": {},
   "cell_type": "markdown",
   "metadata": {},
   "source": [
    "Under the hood, the `Required` utility is a mapped-type:\n",
    "\n",
    "```typescript\n",
    "type MyRequiredReadonly<Type> = { \n",
    "    readonly [key in keyof Type]-?: Type[key] \n",
    "}\n",
    "```\n",
    "Notice in above the syntax `-?` where the optional is removed.\n",
    "\n"
   ]
  },
  {
   "cell_type": "code",
   "execution_count": null,
   "metadata": {},
   "outputs": [],
   "source": [
    "{\n",
    "    type MyRequiredReadonly<Type> = { \n",
    "        readonly [key in keyof Type]-?: Type[key] \n",
    "    }\n",
    "\n",
    "    interface Account {\n",
    "        name?: string;\n",
    "        balance?: number;\n",
    "    }\n",
    "\n",
    "    const account1:Account = {\n",
    "        name: 'foo',\n",
    "        // balance: 100, \n",
    "    }\n",
    "\n",
    "    type RequiredAccount = MyRequiredReadonly<Account>\n",
    "    const account2:RequiredAccount = {\n",
    "        name: 'foo',\n",
    "        // balance: 100, \n",
    "    }\n",
    "    // Property 'balance' is missing in type '{ name: string; }' \n",
    "    // but required in type 'Required<Account>'.ts(2741)\n",
    "}"
   ]
  },
  {
   "attachments": {},
   "cell_type": "markdown",
   "metadata": {},
   "source": [
    "reference: [Mapped types in TypeScript by Wojciech Trawiński](https://medium.com/javascript-everyday/mapped-types-in-typescript-6be8a0dd532c)"
   ]
  }
 ],
 "metadata": {
  "kernelspec": {
   "display_name": "TypeScript",
   "language": "typescript",
   "name": "tslab"
  },
  "language_info": {
   "name": "typescript"
  },
  "orig_nbformat": 4
 },
 "nbformat": 4,
 "nbformat_minor": 2
}
