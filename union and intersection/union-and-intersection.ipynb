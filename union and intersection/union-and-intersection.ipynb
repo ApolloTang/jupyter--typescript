{
 "cells": [
  {
   "cell_type": "markdown",
   "metadata": {},
   "source": []
  },
  {
   "cell_type": "markdown",
   "metadata": {},
   "source": [
    "# Union and Intersection the differences\n",
    "\n",
    "[https://www.typescriptlang.org/docs/handbook/2/objects.html#intersection-types](https://www.typescriptlang.org/docs/handbook/2/objects.html#intersection-types)\n",
    "\n",
    "[https://blog.logrocket.com/understanding-discriminated-union-intersection-types-typescript](https://blog.logrocket.com/understanding-discriminated-union-intersection-types-typescript)\n"
   ]
  },
  {
   "cell_type": "code",
   "execution_count": 1,
   "metadata": {},
   "outputs": [],
   "source": [
    "interface Bird {\n",
    "  common(): void;\n",
    "  fly():void;\n",
    "}\n",
    "\n",
    "interface Fish {\n",
    "  common(): void;\n",
    "  swim():void;\n",
    "}"
   ]
  },
  {
   "cell_type": "markdown",
   "metadata": {},
   "source": [
    "## Union of type\n",
    "\n",
    "A value that can be any one of several types is a union type. In the following, the type UnionBirdFish can be Bird **OR** Fish:"
   ]
  },
  {
   "cell_type": "code",
   "execution_count": null,
   "metadata": {},
   "outputs": [],
   "source": [
    "type UnionBirdFish = Bird | Fish"
   ]
  },
  {
   "cell_type": "markdown",
   "metadata": {},
   "source": [
    "In the following we have have an object called `birdOrFish`, we declared it a union type of Bird and Fish, and we implimented the methods `fly()`, `swim()` and `common()`.  "
   ]
  },
  {
   "cell_type": "code",
   "execution_count": null,
   "metadata": {},
   "outputs": [],
   "source": [
    "const birdOrFish: UnionBirdFish = {\n",
    "  common: ()=>{},\n",
    "  fly: ()=>{},\n",
    "  swim: ()=>{}\n",
    "}"
   ]
  },
  {
   "cell_type": "markdown",
   "metadata": {},
   "source": [
    "However; during the usage, only common properties are available:"
   ]
  },
  {
   "cell_type": "code",
   "execution_count": null,
   "metadata": {},
   "outputs": [],
   "source": [
    "birdOrFish.common();  // <-- only common property are available in a union of type\n",
    "\n",
    "birdOrFish.fly();  // Property 'fly' does not exist on type 'Union'.\n",
    "birdOrFish.swim(); // Property 'swim' does not exist on type 'Union'"
   ]
  },
  {
   "cell_type": "markdown",
   "metadata": {},
   "source": [
    "That is because the variable `birdOrFish` can hold value of either `Fish` or `Bird`. We can not be certain that that the repective member is available to call. For example `Fish` does not have `fly()` method. In situation like this we can do a check with the `in` operator to make sure that the method `fly()` is available for us to call. \n",
    "\n",
    "This technique is called **type guards**:"
   ]
  },
  {
   "cell_type": "code",
   "execution_count": null,
   "metadata": {},
   "outputs": [],
   "source": [
    "if ('fly' in birdOrFish) {\n",
    "  birdOrFish.fly()\n",
    "}\n",
    "\n",
    "if ('swim' in birdOrFish) {\n",
    "  birdOrFish.swim()\n",
    "}"
   ]
  },
  {
   "cell_type": "markdown",
   "metadata": {},
   "source": [
    "## Intersection of type\n",
    "\n",
    "Intersection type is a type that combines several types into one. In the following, `Bird` type **AND** `Fish` type combines to form an intersection:"
   ]
  },
  {
   "cell_type": "code",
   "execution_count": null,
   "metadata": {},
   "outputs": [],
   "source": [
    "type Intersection = Bird & Fish"
   ]
  },
  {
   "cell_type": "markdown",
   "metadata": {},
   "source": [
    "Intersection produce a new type that has all the members of the types that combined:"
   ]
  },
  {
   "cell_type": "code",
   "execution_count": null,
   "metadata": {},
   "outputs": [],
   "source": [
    "\n",
    "const intersec: Intersection = {\n",
    "  common: ()=>{},\n",
    "  fly: ()=>{},\n",
    "  swim: ()=>{}\n",
    "}\n",
    "\n",
    "// All properties are available in an intersection of type\n",
    "intersec.common();\n",
    "intersec.fly();\n",
    "intersec.swim();"
   ]
  }
 ],
 "metadata": {
  "kernelspec": {
   "display_name": "TypeScript",
   "language": "typescript",
   "name": "tslab"
  },
  "language_info": {
   "codemirror_mode": {
    "mode": "typescript",
    "name": "javascript",
    "typescript": true
   },
   "file_extension": ".ts",
   "mimetype": "text/typescript",
   "name": "typescript",
   "version": "3.7.2"
  },
  "orig_nbformat": 4
 },
 "nbformat": 4,
 "nbformat_minor": 2
}
