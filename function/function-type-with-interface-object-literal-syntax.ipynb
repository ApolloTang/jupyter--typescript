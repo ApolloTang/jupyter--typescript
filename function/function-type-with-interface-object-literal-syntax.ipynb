{
 "cells": [
  {
   "attachments": {},
   "cell_type": "markdown",
   "metadata": {},
   "source": [
    "# Function Type with Interface's Object Literal Syntax\n",
    "\n",
    "Reference: \n",
    "- [Interface | function type](https://www.typescriptlang.org/docs/handbook/interfaces.html#function-types)\n",
    "- https://stackoverflow.com/a/52613742/3136861\n"
   ]
  },
  {
   "attachments": {},
   "cell_type": "markdown",
   "metadata": {},
   "source": [
    "\n",
    "Interfaces are often used to describe JavaScript objects:\n",
    "\n",
    "```typescript \n",
    "interface Person {\n",
    "  name: string;\n",
    "  age: number;\n",
    "  getName: ()=> string;\n",
    "  getAge(): number;\n",
    "}\n",
    "```\n",
    "\n",
    "Notices that all the property keys in this interface syntax have names (`name`, `age`, `getName`, and `getAge`). This is the interface syntax we commonly see.\n",
    "\n",
    "A Less commonly seen syntax for the interface has property keys written with parentheses and without a name (This is sometimes referred to as the **call signature property**):\n",
    "\n",
    "```typescript\n",
    "interface convertNumberToString {\n",
    "  (num: string): String // call signature property\n",
    "}\n",
    "```\n",
    "This interface syntax with *call signature property* is called the **object literal syntax**. Interface of written in this construct is used to describe  **Function Types**: "
   ]
  },
  {
   "cell_type": "code",
   "execution_count": 6,
   "metadata": {},
   "outputs": [
    {
     "name": "stdout",
     "output_type": "stream",
     "text": [
      "string\n"
     ]
    }
   ],
   "source": [
    ";(function(){\n",
    "    // Function Types with object literal interface syntax :\n",
    "    interface Convert {\n",
    "        (num: number): string\n",
    "    }\n",
    "\n",
    "    const convert: Convert = function(x:number):string {\n",
    "        return x.toString()\n",
    "    }\n",
    "\n",
    "    console.log(typeof convert(100))\n",
    "})()"
   ]
  },
  {
   "attachments": {},
   "cell_type": "markdown",
   "metadata": {},
   "source": [
    "Recall that we already have a syntax for Function type in Typescript: "
   ]
  },
  {
   "cell_type": "code",
   "execution_count": 1,
   "metadata": {},
   "outputs": [
    {
     "name": "stdout",
     "output_type": "stream",
     "text": [
      "string\n"
     ]
    }
   ],
   "source": [
    ";(function(){\n",
    "    // Function Types with object literal interface syntax :\n",
    "    type Convert = (input:number) => string\n",
    "\n",
    "    const convert: Convert = function(x:number):string {\n",
    "        return x.toString()\n",
    "    }\n",
    "\n",
    "    console.log(typeof convert(100))\n",
    "})()"
   ]
  },
  {
   "attachments": {},
   "cell_type": "markdown",
   "metadata": {},
   "source": [
    "So, why is the need to have another systax to annotate function expression?\n",
    "\n",
    "Recall that function in Javscript is an object. As an object it can have properties [Mdn: function](https://developer.mozilla.org/en-US/docs/Web/JavaScript/Reference/Functions)"
   ]
  },
  {
   "cell_type": "code",
   "execution_count": 5,
   "metadata": {},
   "outputs": [
    {
     "name": "stdout",
     "output_type": "stream",
     "text": [
      "convert is a function that cast number to string\n"
     ]
    }
   ],
   "source": [
    ";(function(){\n",
    "    let convert = function(x:number):string {\n",
    "        return x.toString()\n",
    "    }\n",
    "    // @ts-expect-error Demo: function can have property\n",
    "    convert.help = \"convert is a function that cast number to string\"\n",
    "    // @ts-expect-error Demo\n",
    "    console.log(convert.help)\n",
    "})()"
   ]
  },
  {
   "attachments": {},
   "cell_type": "markdown",
   "metadata": {},
   "source": [
    "The above demostrate the dynamic flexible feature of Javascript function as an object. With the interface's **object literal syntax** we are able to describe this Javascript's **function as a first class citizen** feature:"
   ]
  },
  {
   "cell_type": "code",
   "execution_count": 4,
   "metadata": {},
   "outputs": [
    {
     "name": "stdout",
     "output_type": "stream",
     "text": [
      "convert is a function that cast number to string\n"
     ]
    }
   ],
   "source": [
    ";(function(){\n",
    "    interface Convert {\n",
    "        (num: number): string;\n",
    "        help: string;\n",
    "    }\n",
    "\n",
    "    let convert = function(x:number):string {\n",
    "        return x.toString()\n",
    "    } as Convert\n",
    "    \n",
    "    convert.help = \"convert is a function that cast number to string\"\n",
    "    console.log(convert.help)\n",
    "})()"
   ]
  },
  {
   "attachments": {},
   "cell_type": "markdown",
   "metadata": {},
   "source": [
    "This type describtion for Javascript's **function as a first class citizen** feature is called the [**Hybrid Types**](https://www.typescriptlang.org/docs/handbook/interfaces.html#hybrid-types)\n"
   ]
  }
 ],
 "metadata": {
  "kernelspec": {
   "display_name": "TypeScript",
   "language": "typescript",
   "name": "tslab"
  },
  "language_info": {
   "codemirror_mode": {
    "mode": "typescript",
    "name": "javascript",
    "typescript": true
   },
   "file_extension": ".ts",
   "mimetype": "text/typescript",
   "name": "typescript",
   "version": "3.7.2"
  },
  "orig_nbformat": 4
 },
 "nbformat": 4,
 "nbformat_minor": 2
}
