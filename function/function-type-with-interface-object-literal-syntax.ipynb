{
 "cells": [
  {
   "attachments": {},
   "cell_type": "markdown",
   "metadata": {},
   "source": [
    "# Function Type with Interface Object Literal Syntax\n",
    "\n",
    "Reference: \n",
    "- [Interface | function type](https://www.typescriptlang.org/docs/handbook/interfaces.html#function-types)\n",
    "- https://stackoverflow.com/a/52613742/3136861\n"
   ]
  },
  {
   "attachments": {},
   "cell_type": "markdown",
   "metadata": {},
   "source": [
    "\n",
    "Interfaces are often used to describe JavaScript objects:\n",
    "\n",
    "```typescript \n",
    "interface Person {\n",
    "  name: string;\n",
    "  age: number;\n",
    "  getName: ()=> string;\n",
    "  getAge(): number;\n",
    "}\n",
    "```\n",
    "\n",
    "Notices that all the property keys in this interface syntax have names (`name`, `age`, `getName`, and `getAge`). This is the interface syntax we commonly see.\n",
    "\n",
    "A Less commonly seen syntax for the interface has property keys written with parentheses and without a name (which is sometimes referred to as the **call signature property**):\n",
    "\n",
    "```typescript\n",
    "interface convertNumberToString {\n",
    "  (num: string): String // call signature property\n",
    "}\n",
    "```\n",
    "This interface syntax with *call signature property* is called the **object literal syntax**. It is used to describe a function (or the **Function Types**). "
   ]
  },
  {
   "cell_type": "code",
   "execution_count": 6,
   "metadata": {},
   "outputs": [
    {
     "name": "stdout",
     "output_type": "stream",
     "text": [
      "string\n"
     ]
    }
   ],
   "source": [
    ";(function(){\n",
    "    // Function Types with object literal interface syntax :\n",
    "    interface Convert {\n",
    "        (num: number): string\n",
    "    }\n",
    "\n",
    "    const convert: Convert = function(x:number):string {\n",
    "        return x.toString()\n",
    "    }\n",
    "\n",
    "    console.log(typeof convert(100))\n",
    "})()"
   ]
  }
 ],
 "metadata": {
  "kernelspec": {
   "display_name": "TypeScript",
   "language": "typescript",
   "name": "tslab"
  },
  "language_info": {
   "codemirror_mode": {
    "mode": "typescript",
    "name": "javascript",
    "typescript": true
   },
   "file_extension": ".ts",
   "mimetype": "text/typescript",
   "name": "typescript",
   "version": "3.7.2"
  },
  "orig_nbformat": 4
 },
 "nbformat": 4,
 "nbformat_minor": 2
}
