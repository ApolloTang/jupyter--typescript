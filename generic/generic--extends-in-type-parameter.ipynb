{
 "cells": [
  {
   "cell_type": "code",
   "execution_count": 2,
   "metadata": {},
   "outputs": [
    {
     "name": "stderr",
     "output_type": "stream",
     "text": [
      "9:16 - Argument of type '\"turtle\"' is not assignable to parameter of type '\"cat\" | \"dob\"'.\n"
     ]
    }
   ],
   "source": [
    ";(()=>{\n",
    "    \n",
    "function zoo<T extends 'cat' | 'dob'>(a:T) {\n",
    "    return a\n",
    "}\n",
    "\n",
    "const z1 = zoo('cat')\n",
    "//     ^-- const z1: 'cat'\n",
    "\n",
    "const z2 = zoo('turtle')\n",
    "//                    ^--[tsserver 2345] \n",
    "//                       Argument of type \n",
    "//                       '\"turtle\"' is not assignable to parameter of type '\"cat\" | \"dob\"'\n",
    "\n",
    "})()"
   ]
  },
  {
   "cell_type": "code",
   "execution_count": null,
   "metadata": {},
   "outputs": [],
   "source": []
  }
 ],
 "metadata": {
  "kernelspec": {
   "display_name": "TypeScript",
   "language": "typescript",
   "name": "tslab"
  },
  "language_info": {
   "codemirror_mode": {
    "mode": "typescript",
    "name": "javascript",
    "typescript": true
   },
   "file_extension": ".ts",
   "mimetype": "text/typescript",
   "name": "typescript",
   "version": "3.7.2"
  },
  "orig_nbformat": 4
 },
 "nbformat": 4,
 "nbformat_minor": 2
}
