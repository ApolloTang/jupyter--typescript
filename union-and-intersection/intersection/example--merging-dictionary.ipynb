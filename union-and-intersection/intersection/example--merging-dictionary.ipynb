{
 "cells": [
  {
   "cell_type": "markdown",
   "metadata": {},
   "source": []
  },
  {
   "cell_type": "markdown",
   "metadata": {},
   "source": [
    "# Intersection example: Shallow merge dictionary \n",
    "\n",
    "When we merge two dictionary by spreading it into a new object, the resultant new object is a intersection of the two dictionary:  "
   ]
  },
  {
   "cell_type": "code",
   "execution_count": null,
   "metadata": {},
   "outputs": [],
   "source": [
    "(()=>{\n",
    "    function extend<T, U>(first: T, second: U) {\n",
    "        const result = { ...first, ...second } // type of result is T & U\n",
    "        return result \n",
    "    }\n",
    "    \n",
    "    const x = extend({ a: \"hello\" }, { b: 42 });\n",
    "    console.log(x);\n",
    "})()"
   ]
  },
  {
   "cell_type": "markdown",
   "metadata": {},
   "source": [
    "The following is suppose to do the same thing as above, but I couldn't figure out the type error:"
   ]
  },
  {
   "cell_type": "code",
   "execution_count": 5,
   "metadata": {},
   "outputs": [
    {
     "name": "stderr",
     "output_type": "stream",
     "text": [
      "5:13 - Type 'T[Extract<keyof T, string>]' is not assignable to type '(T & U)[Extract<keyof T, string>]'.\n",
      "5:13 - Type 'T' is not assignable to type 'T & U'.\n",
      "5:13 - Type 'T' is not assignable to type 'U'.\n",
      "5:13 - 'U' could be instantiated with an arbitrary type which could be unrelated to 'T'.\n",
      "8:13 - Type 'U[Extract<keyof U, string>]' is not assignable to type '(T & U)[Extract<keyof U, string>]'.\n",
      "8:13 - Type 'U' is not assignable to type 'T & U'.\n",
      "8:13 - Type 'U' is not assignable to type 'T'.\n",
      "8:13 - 'T' could be instantiated with an arbitrary type which could be unrelated to 'U'.\n"
     ]
    }
   ],
   "source": [
    "(()=>{\n",
    "    function extend<T, U>(first: T, second: U) {\n",
    "        const result = {} as T & U\n",
    "        for (let id in first) {\n",
    "            result[id] = first[id];\n",
    "        }\n",
    "        for (let id in second) {\n",
    "            result[id] = second[id];\n",
    "        }\n",
    "        return result \n",
    "    }\n",
    "\n",
    "    const x = extend({ a: \"hello\" }, { b: 42 });\n",
    "    console.log(x);\n",
    "})()"
   ]
  },
  {
   "cell_type": "markdown",
   "metadata": {},
   "source": [
    "The above example is inspired by the example in [https://github.com/microsoft/TypeScript/pull/3622](https://github.com/microsoft/TypeScript/pull/3622), which is also contain type error:"
   ]
  },
  {
   "cell_type": "code",
   "execution_count": 6,
   "metadata": {},
   "outputs": [
    {
     "name": "stderr",
     "output_type": "stream",
     "text": [
      "5:13 - Type 'T[Extract<keyof T, string>]' is not assignable to type '(T & U)[Extract<keyof T, string>]'.\n",
      "5:13 - Type 'T' is not assignable to type 'T & U'.\n",
      "5:13 - Type 'T' is not assignable to type 'U'.\n",
      "5:13 - 'U' could be instantiated with an arbitrary type which could be unrelated to 'T'.\n",
      "9:17 - Type 'U[Extract<keyof U, string>]' is not assignable to type '(T & U)[Extract<keyof U, string>]'.\n",
      "9:17 - Type 'U' is not assignable to type 'T & U'.\n",
      "9:17 - Type 'U' is not assignable to type 'T'.\n",
      "9:17 - 'T' could be instantiated with an arbitrary type which could be unrelated to 'U'.\n"
     ]
    }
   ],
   "source": [
    ";(()=>{\n",
    "    function extend<T, U>(first: T, second: U): T & U {\n",
    "        let result = <T & U> {};\n",
    "        for (let id in first) {\n",
    "            result[id] = first[id];\n",
    "        }\n",
    "        for (let id in second) {\n",
    "            if (!result.hasOwnProperty(id)) {\n",
    "                result[id] = second[id];\n",
    "            }\n",
    "        }\n",
    "        return result;\n",
    "    }\n",
    "    \n",
    "    var x = extend({ a: \"hello\" }, { b: 42 });\n",
    "    var s = x.a;\n",
    "    var n = x.b;\n",
    "})()"
   ]
  }
 ],
 "metadata": {
  "kernelspec": {
   "display_name": "TypeScript",
   "language": "typescript",
   "name": "tslab"
  },
  "language_info": {
   "codemirror_mode": {
    "mode": "typescript",
    "name": "javascript",
    "typescript": true
   },
   "file_extension": ".ts",
   "mimetype": "text/typescript",
   "name": "typescript",
   "version": "3.7.2"
  },
  "orig_nbformat": 4
 },
 "nbformat": 4,
 "nbformat_minor": 2
}
