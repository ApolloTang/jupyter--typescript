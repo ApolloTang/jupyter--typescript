{
 "cells": [
  {
   "attachments": {},
   "cell_type": "markdown",
   "metadata": {},
   "source": [
    "# Conditional Types\n",
    "\n",
    "Reference \n",
    "- [typescriptlang.org/docs/handbook/release-notes/typescript-2-8.html#conditional-types](https://www.typescriptlang.org/docs/handbook/release-notes/typescript-2-8.html#conditional-types)\n",
    "- [typescriptlang.org/docs/handbook/2/conditional-types.html#inferring-within-conditional-types](https://www.typescriptlang.org/docs/handbook/2/conditional-types.html#inferring-within-conditional-types)\n",
    "\n",
    "A conditional type selects one of two possible types based on a condition expressed as a type relationship test:\n",
    "\n",
    "```Typescript\n",
    "type ResultType<T, U> = T extends U ? X : Y\n",
    "```\n",
    "\n",
    "The above means if `T` is assignable to `U`, the type of `ResultType` is `X`, otherwise it is `X`."
   ]
  },
  {
   "cell_type": "code",
   "execution_count": 1,
   "metadata": {},
   "outputs": [],
   "source": [
    "{\n",
    "    type Pet = 'cat' | 'dog' | 'turtle'\n",
    "    type IsMyPet<T, U> = T extends U ? true : false\n",
    "\n",
    "    type MyPet1 = IsMyPet<'cat', Pet> // true\n",
    "    type MyPet2 = IsMyPet<'parrot', Pet> // false\n",
    "}"
   ]
  },
  {
   "cell_type": "code",
   "execution_count": 2,
   "metadata": {},
   "outputs": [
    {
     "name": "stdout",
     "output_type": "stream",
     "text": [
      "asdfasdf {\n",
      "  versions: { tslab: '1.0.15', typescript: '4.1.2', node: 'v18.9.0' },\n",
      "  newDisplay: [Function: newDisplay],\n",
      "  display: DisplayImpl { id: undefined }\n",
      "}\n"
     ]
    },
    {
     "data": {
      "text/html": [
       "\n",
       "      <div\n",
       "        id=\"_plotly-davjerp859s8\"\n",
       "        style=\"width:600px;height:600px;\">\n",
       "      </div>\n",
       "      <script>\n",
       "      {\n",
       "        function ensurePlotly() {\n",
       "    if (!window.PlotlyPromise) {\n",
       "        const define = window.define;\n",
       "        window.define = undefined; // avoid plotly thinking it is in a requirejs environment (vscode)\n",
       "        const script = document.createElement(\"script\");\n",
       "        script.setAttribute(\"type\", \"text/javascript\");\n",
       "        script.setAttribute(\"id\", \"plotly-lib-bundle\");\n",
       "        script.setAttribute(\"src\", \"https://cdn.plot.ly/plotly-latest.min.js\");\n",
       "        window.PlotlyPromise = new Promise((resolve, reject) => {\n",
       "            script.onload = () => resolve();\n",
       "            script.onerror = () => reject(new Error(\"Error loading \" + script.getAttribute(\"src\")));\n",
       "        });\n",
       "        document.head.appendChild(script);\n",
       "        window.PlotlyPromise.catch().then(() => {\n",
       "            window.define = define;\n",
       "        });\n",
       "    }\n",
       "}\n",
       "        async function runPlotlyScript(plotId, data, layout, config) {\n",
       "    const plotContainer = document.getElementById(plotId);\n",
       "    try {\n",
       "        await window.PlotlyPromise;\n",
       "        window.Plotly.newPlot(plotContainer, data, layout, config);\n",
       "    }\n",
       "    catch (e) {\n",
       "        plotContainer.innerText = e.message + \"\\\\n\" + e.stack;\n",
       "    }\n",
       "}\n",
       "\n",
       "        ensurePlotly();\n",
       "        runPlotlyScript(...[\"_plotly-davjerp859s8\",[{\"x\":[1,2,3,4,5],\"y\":[1,2,4,8,16]}],{\"margin\":{\"l\":50,\"r\":50,\"b\":25,\"t\":50},\"width\":600,\"height\":600},null]);\n",
       "      }\n",
       "      </script>\n",
       "    "
      ]
     },
     "metadata": {},
     "output_type": "display_data"
    }
   ],
   "source": [
    "import {IsEqual} from  'type-fest'\n",
    "\n",
    "type AssignableToString<T>  = T extends string ? true : false\n",
    "\n",
    "type ExpectedToAssiganbleToString =  \"name\" | \"alive\" | \"foo\"\n",
    "type assert1 = IsEqual<AssignableToString<ExpectedToAssiganbleToString>, true> // true\n",
    "\n",
    "type ExpectedToNotAssiganbleToString =  1 | \"alive\" | \"foo\"\n",
    "type assert2 = IsEqual<AssignableToString<ExpectedToNotAssiganbleToString>, false> // true"
   ]
  }
 ],
 "metadata": {
  "kernelspec": {
   "display_name": "TypeScript",
   "language": "typescript",
   "name": "tslab"
  },
  "language_info": {
   "codemirror_mode": {
    "mode": "typescript",
    "name": "javascript",
    "typescript": true
   },
   "file_extension": ".ts",
   "mimetype": "text/typescript",
   "name": "typescript",
   "version": "3.7.2"
  },
  "orig_nbformat": 4
 },
 "nbformat": 4,
 "nbformat_minor": 2
}
